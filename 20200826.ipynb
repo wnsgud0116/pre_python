{
 "cells": [
  {
   "cell_type": "markdown",
   "metadata": {},
   "source": [
    "# 제일 큰 제목 (h1의역할)\n",
    "## 그 다음 큰 제목 (h2의 역할)\n",
    "### 그 다음 큰 제목 (h3의 역할)\n",
    "#### (h6까지 존재한다)\n",
    "\n"
   ]
  },
  {
   "cell_type": "markdown",
   "metadata": {},
   "source": [
    "1. 첫 번째 항목\n",
    "2. 두 번째 항목\n",
    "3. 세 번째 항목"
   ]
  },
  {
   "cell_type": "markdown",
   "metadata": {},
   "source": [
    "* 항목 1\n",
    "* 항목 2\n",
    "* 항목 3\n",
    "    * 항목 3 - 1\n",
    "    * 항목 3 - 2\n",
    "        * 항목 3 - 2- 1\n",
    "       "
   ]
  },
  {
   "cell_type": "code",
   "execution_count": 3,
   "metadata": {
    "scrolled": true
   },
   "outputs": [
    {
     "name": "stdout",
     "output_type": "stream",
     "text": [
      "hello world\n"
     ]
    }
   ],
   "source": [
    "str1 = 'hello' + ' world'\n",
    "print(str1)"
   ]
  },
  {
   "cell_type": "code",
   "execution_count": 5,
   "metadata": {},
   "outputs": [],
   "source": [
    "str1 = 'aaa'\n",
    "str2 = 'bbb'"
   ]
  },
  {
   "cell_type": "code",
   "execution_count": 9,
   "metadata": {},
   "outputs": [
    {
     "name": "stdout",
     "output_type": "stream",
     "text": [
      "aaabbb\n"
     ]
    }
   ],
   "source": [
    "a = str1 + str2\n",
    "print(a)"
   ]
  },
  {
   "cell_type": "code",
   "execution_count": 12,
   "metadata": {},
   "outputs": [
    {
     "name": "stdout",
     "output_type": "stream",
     "text": [
      "hellohello\n"
     ]
    }
   ],
   "source": [
    "str1 = 'hello' * 2\n",
    "print(str1)"
   ]
  },
  {
   "cell_type": "code",
   "execution_count": 13,
   "metadata": {},
   "outputs": [
    {
     "name": "stdout",
     "output_type": "stream",
     "text": [
      "hellohellohellohello\n"
     ]
    }
   ],
   "source": [
    "str5 = str1 * 2\n",
    "print(str5)"
   ]
  },
  {
   "cell_type": "code",
   "execution_count": 69,
   "metadata": {},
   "outputs": [
    {
     "name": "stdout",
     "output_type": "stream",
     "text": [
      "D\n",
      "Z\n"
     ]
    }
   ],
   "source": [
    "alphabet = 'abcdefghijklmnopqrstuvwxyz'\n",
    "a = alphabet.upper()\n",
    "print(a[3])\n",
    "print(a[-1])"
   ]
  },
  {
   "cell_type": "code",
   "execution_count": 77,
   "metadata": {},
   "outputs": [
    {
     "name": "stdout",
     "output_type": "stream",
     "text": [
      "-1\n",
      "\n",
      "\n",
      "18\n"
     ]
    }
   ],
   "source": [
    "find1 = a.find('c')\n",
    "print(find1)\n",
    "print('\\n')\n",
    "index1 = a.index('S')\n",
    "print(index1)"
   ]
  },
  {
   "cell_type": "code",
   "execution_count": 25,
   "metadata": {},
   "outputs": [
    {
     "name": "stdout",
     "output_type": "stream",
     "text": [
      "ABCDE\n",
      "\n",
      "\n",
      "ACEGIKMOQSUWY\n"
     ]
    }
   ],
   "source": [
    "slice1 = a[0:5]\n",
    "print(slice1)\n",
    "print('\\n')\n",
    "\n",
    "slice2 = a[::2]\n",
    "print(slice2)"
   ]
  },
  {
   "cell_type": "code",
   "execution_count": 23,
   "metadata": {},
   "outputs": [
    {
     "name": "stdout",
     "output_type": "stream",
     "text": [
      "KLMNOPQRSTUVWXYZ\n"
     ]
    }
   ],
   "source": [
    "slice3 = a[10:]\n",
    "print(slice3)"
   ]
  },
  {
   "cell_type": "code",
   "execution_count": 29,
   "metadata": {},
   "outputs": [
    {
     "name": "stdout",
     "output_type": "stream",
     "text": [
      "BFJNRVZ\n"
     ]
    }
   ],
   "source": [
    "slice5 = a[1::4]\n",
    "print(slice5)"
   ]
  },
  {
   "cell_type": "code",
   "execution_count": 30,
   "metadata": {},
   "outputs": [
    {
     "name": "stdout",
     "output_type": "stream",
     "text": [
      "ZYXWVUTSRQPONMLKJIHGFEDCBA\n"
     ]
    }
   ],
   "source": [
    "slice6 = a[::-1]\n",
    "print(slice6)"
   ]
  },
  {
   "cell_type": "code",
   "execution_count": 37,
   "metadata": {},
   "outputs": [
    {
     "name": "stdout",
     "output_type": "stream",
     "text": [
      "['asdf', 'asdfd']\n"
     ]
    }
   ],
   "source": [
    "hashtags = \"#asdf#asdfd\"\n",
    "hashtag_split = hashtags.split('#')\n",
    "print(hashtag_split[1:])"
   ]
  },
  {
   "cell_type": "code",
   "execution_count": 40,
   "metadata": {},
   "outputs": [
    {
     "name": "stdout",
     "output_type": "stream",
     "text": [
      "['', 'asdf', 'asdfd']\n"
     ]
    }
   ],
   "source": [
    "hashtags = \"#asdf#asdfd\"\n",
    "hashtag_split = hashtags.split('#')\n",
    "print(hashtag_split) #앞에 ''없애주기 위해"
   ]
  },
  {
   "cell_type": "code",
   "execution_count": 43,
   "metadata": {},
   "outputs": [
    {
     "data": {
      "text/plain": [
       "['hi', \"today's\", 'weather', 'is', 'hot']"
      ]
     },
     "execution_count": 43,
     "metadata": {},
     "output_type": "execute_result"
    }
   ],
   "source": [
    "sample_str = \"hi today's weather is hot\"\n",
    "\n",
    "sample_str.split()"
   ]
  },
  {
   "cell_type": "code",
   "execution_count": 46,
   "metadata": {},
   "outputs": [
    {
     "data": {
      "text/plain": [
       "['', 'asdf', 'asdfd']"
      ]
     },
     "execution_count": 46,
     "metadata": {},
     "output_type": "execute_result"
    }
   ],
   "source": [
    "hashtag_split"
   ]
  },
  {
   "cell_type": "code",
   "execution_count": 49,
   "metadata": {},
   "outputs": [
    {
     "data": {
      "text/plain": [
       "'@asdf@asdfd'"
      ]
     },
     "execution_count": 49,
     "metadata": {},
     "output_type": "execute_result"
    }
   ],
   "source": [
    "'@'.join(hashtag_split)"
   ]
  },
  {
   "cell_type": "code",
   "execution_count": 78,
   "metadata": {},
   "outputs": [],
   "source": [
    "empty_list1 =[]\n",
    "empty_list2 = list()"
   ]
  },
  {
   "cell_type": "code",
   "execution_count": 82,
   "metadata": {},
   "outputs": [
    {
     "name": "stdout",
     "output_type": "stream",
     "text": [
      "['picachu', 'raichu', 'picachu']\n"
     ]
    }
   ],
   "source": [
    "pokemon_list = ['picachu','raichu','picachu']\n",
    "print(pokemon_list)"
   ]
  },
  {
   "cell_type": "code",
   "execution_count": 83,
   "metadata": {},
   "outputs": [
    {
     "data": {
      "text/plain": [
       "['raichu', 'picachu']"
      ]
     },
     "execution_count": 83,
     "metadata": {},
     "output_type": "execute_result"
    }
   ],
   "source": [
    "pokemon_list[1:]"
   ]
  },
  {
   "cell_type": "code",
   "execution_count": 86,
   "metadata": {},
   "outputs": [
    {
     "data": {
      "text/plain": [
       "['picachu', 'picachu']"
      ]
     },
     "execution_count": 86,
     "metadata": {},
     "output_type": "execute_result"
    }
   ],
   "source": [
    "pokemon_list[::2]"
   ]
  },
  {
   "cell_type": "code",
   "execution_count": 90,
   "metadata": {},
   "outputs": [
    {
     "name": "stdout",
     "output_type": "stream",
     "text": [
      "['picachu', 'raichu', 'kobugi']\n"
     ]
    }
   ],
   "source": [
    "pokemon_list[-1] = 'kobugi'\n",
    "print(pokemon_list)"
   ]
  },
  {
   "cell_type": "code",
   "execution_count": 100,
   "metadata": {},
   "outputs": [
    {
     "name": "stdout",
     "output_type": "stream",
     "text": [
      "['picachu', 'raichu', 'kobugi', 'pairi', 'pairi', 'pairi', 'pairi', 'pairi', 'pairi', 'pairi']\n"
     ]
    }
   ],
   "source": [
    "pokemon_list.append('pairi')\n",
    "print(pokemon_list)"
   ]
  },
  {
   "cell_type": "code",
   "execution_count": 102,
   "metadata": {},
   "outputs": [],
   "source": [
    "pokemon_list2 = ['butterful','dfadf','dfasfsc']"
   ]
  },
  {
   "cell_type": "code",
   "execution_count": 103,
   "metadata": {},
   "outputs": [
    {
     "data": {
      "text/plain": [
       "['picachu',\n",
       " 'raichu',\n",
       " 'kobugi',\n",
       " 'pairi',\n",
       " 'pairi',\n",
       " 'pairi',\n",
       " 'pairi',\n",
       " 'pairi',\n",
       " 'pairi',\n",
       " 'pairi']"
      ]
     },
     "execution_count": 103,
     "metadata": {},
     "output_type": "execute_result"
    }
   ],
   "source": [
    "pokemon_list_copy = pokemon_list.copy()\n",
    "pokemon_list_copy"
   ]
  },
  {
   "cell_type": "code",
   "execution_count": 105,
   "metadata": {},
   "outputs": [
    {
     "name": "stdout",
     "output_type": "stream",
     "text": [
      "['picachu', 'raichu', 'kobugi', 'pairi', 'pairi', 'pairi', 'pairi', 'pairi', 'pairi', 'pairi', ['butterful', 'dfadf', 'dfasfsc'], 'butterful', 'dfadf', 'dfasfsc']\n"
     ]
    }
   ],
   "source": [
    "pokemon_list_copy.extend(pokemon_list2)\n",
    "print(pokemon_list_copy)"
   ]
  },
  {
   "cell_type": "code",
   "execution_count": 107,
   "metadata": {},
   "outputs": [
    {
     "name": "stdout",
     "output_type": "stream",
     "text": [
      "['picachu', 'raichu', 'kobugi', 'pairi', 'pairi', 'pairi', 'pairi', 'pairi', 'pairi', 'pairi', 'dfad', 'dfsd', 'dfad']\n"
     ]
    }
   ],
   "source": [
    "#append 그냥 뒤로 #extend 해야 원래 리스트에 자연스럽게\n",
    "\n",
    "pokemon_list += ['dfad','dfsd','dfad']\n",
    "print(pokemon_list)"
   ]
  },
  {
   "cell_type": "code",
   "execution_count": 121,
   "metadata": {},
   "outputs": [
    {
     "name": "stdout",
     "output_type": "stream",
     "text": [
      "['c', 'a', 't']\n"
     ]
    }
   ],
   "source": [
    "simple = 'cat'\n",
    "sample_list = list(simple)\n",
    "print(sample_list)"
   ]
  },
  {
   "cell_type": "code",
   "execution_count": 122,
   "metadata": {},
   "outputs": [
    {
     "name": "stdout",
     "output_type": "stream",
     "text": [
      "['c', 'b', 't']\n"
     ]
    }
   ],
   "source": [
    "sample_list[1] = 'b'\n",
    "print(sample_list)"
   ]
  },
  {
   "cell_type": "code",
   "execution_count": 125,
   "metadata": {},
   "outputs": [
    {
     "data": {
      "text/plain": [
       "'cbt'"
      ]
     },
     "execution_count": 125,
     "metadata": {},
     "output_type": "execute_result"
    }
   ],
   "source": [
    "''.join(sample_list)"
   ]
  },
  {
   "cell_type": "markdown",
   "metadata": {},
   "source": [
    "리스트의 삭제\n",
    "del: 인덱스를 활용해 삭제하기\n",
    "remove: 검색어를 활용해 삭제하기\n",
    "pop: 순서대로 꺼낸다음 삭제하기"
   ]
  },
  {
   "cell_type": "code",
   "execution_count": 127,
   "metadata": {},
   "outputs": [
    {
     "name": "stdout",
     "output_type": "stream",
     "text": [
      "['picachu', 'raichu', 'kobugi', 'pairi', 'dfad', 'dfsd', 'dfad']\n"
     ]
    }
   ],
   "source": [
    "del pokemon_list[3:9]\n",
    "print(pokemon_list)"
   ]
  },
  {
   "cell_type": "code",
   "execution_count": 128,
   "metadata": {},
   "outputs": [
    {
     "name": "stdout",
     "output_type": "stream",
     "text": [
      "['picachu', 'raichu', 'kobugi', 'dfad', 'dfsd', 'dfad']\n"
     ]
    }
   ],
   "source": [
    "pokemon_list.remove('pairi')\n",
    "print(pokemon_list)"
   ]
  },
  {
   "cell_type": "code",
   "execution_count": 129,
   "metadata": {},
   "outputs": [
    {
     "name": "stdout",
     "output_type": "stream",
     "text": [
      "dfad\n",
      "['picachu', 'raichu', 'kobugi', 'dfad', 'dfsd']\n"
     ]
    }
   ],
   "source": [
    "last_item = pokemon_list.pop()\n",
    "print(last_item)\n",
    "print(pokemon_list)"
   ]
  },
  {
   "cell_type": "code",
   "execution_count": 131,
   "metadata": {},
   "outputs": [
    {
     "name": "stdout",
     "output_type": "stream",
     "text": [
      "dfsd\n",
      "['picachu', 'raichu', 'kobugi']\n"
     ]
    }
   ],
   "source": [
    "pop_item = pokemon_list.pop(3)\n",
    "print(pop_item)\n",
    "print(pokemon_list)"
   ]
  },
  {
   "cell_type": "code",
   "execution_count": null,
   "metadata": {},
   "outputs": [],
   "source": []
  },
  {
   "cell_type": "code",
   "execution_count": null,
   "metadata": {},
   "outputs": [],
   "source": []
  },
  {
   "cell_type": "code",
   "execution_count": null,
   "metadata": {},
   "outputs": [],
   "source": []
  },
  {
   "cell_type": "code",
   "execution_count": null,
   "metadata": {},
   "outputs": [],
   "source": []
  },
  {
   "cell_type": "code",
   "execution_count": null,
   "metadata": {},
   "outputs": [],
   "source": []
  },
  {
   "cell_type": "code",
   "execution_count": null,
   "metadata": {},
   "outputs": [],
   "source": []
  },
  {
   "cell_type": "code",
   "execution_count": null,
   "metadata": {},
   "outputs": [],
   "source": []
  },
  {
   "cell_type": "code",
   "execution_count": null,
   "metadata": {},
   "outputs": [],
   "source": []
  }
 ],
 "metadata": {
  "kernelspec": {
   "display_name": "Python 3",
   "language": "python",
   "name": "python3"
  },
  "language_info": {
   "codemirror_mode": {
    "name": "ipython",
    "version": 3
   },
   "file_extension": ".py",
   "mimetype": "text/x-python",
   "name": "python",
   "nbconvert_exporter": "python",
   "pygments_lexer": "ipython3",
   "version": "3.7.9"
  }
 },
 "nbformat": 4,
 "nbformat_minor": 4
}
