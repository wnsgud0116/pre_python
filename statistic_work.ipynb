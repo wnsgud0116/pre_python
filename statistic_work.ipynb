{
 "cells": [
  {
   "cell_type": "code",
   "execution_count": 1,
   "metadata": {},
   "outputs": [],
   "source": [
    "#A의 개대값\n",
    "#B의 개대값\n",
    "\n",
    "A = (300*0.58)+(150*0.87)+(-100*0.05)\n",
    "B = (300*0.65)+(150*0.51)+(-100*0.05)"
   ]
  },
  {
   "cell_type": "code",
   "execution_count": 2,
   "metadata": {},
   "outputs": [
    {
     "data": {
      "text/plain": [
       "299.5"
      ]
     },
     "execution_count": 2,
     "metadata": {},
     "output_type": "execute_result"
    }
   ],
   "source": [
    "A"
   ]
  },
  {
   "cell_type": "code",
   "execution_count": 3,
   "metadata": {},
   "outputs": [
    {
     "data": {
      "text/plain": [
       "266.5"
      ]
     },
     "execution_count": 3,
     "metadata": {},
     "output_type": "execute_result"
    }
   ],
   "source": [
    "B"
   ]
  },
  {
   "cell_type": "code",
   "execution_count": 4,
   "metadata": {},
   "outputs": [],
   "source": [
    "#A의 분산"
   ]
  },
  {
   "cell_type": "code",
   "execution_count": 5,
   "metadata": {},
   "outputs": [
    {
     "data": {
      "text/plain": [
       "76760.0125"
      ]
     },
     "execution_count": 5,
     "metadata": {},
     "output_type": "execute_result"
    }
   ],
   "source": [
    "((300-299.5)**2) *0.58 + ((150-299.5)**2) * 0.87 + ((0-299.5)**2) * 0.55 + (((-100)-299.5)**2)*0.05"
   ]
  },
  {
   "cell_type": "code",
   "execution_count": 6,
   "metadata": {},
   "outputs": [],
   "source": [
    "#B의 분산"
   ]
  },
  {
   "cell_type": "code",
   "execution_count": 7,
   "metadata": {},
   "outputs": [
    {
     "data": {
      "text/plain": [
       "46327.435000000005"
      ]
     },
     "execution_count": 7,
     "metadata": {},
     "output_type": "execute_result"
    }
   ],
   "source": [
    "((300-266.5)**2) * 0.65 + ((150-266.5)**2) * 0.51 + ((0-266.5)**2) * 0.45 + (((-100)-266.5)**2)*0.05 "
   ]
  },
  {
   "cell_type": "code",
   "execution_count": 8,
   "metadata": {},
   "outputs": [],
   "source": [
    "import numpy as np"
   ]
  },
  {
   "cell_type": "code",
   "execution_count": 9,
   "metadata": {},
   "outputs": [],
   "source": [
    "x = [300,150,0,(-100)]"
   ]
  },
  {
   "cell_type": "code",
   "execution_count": 10,
   "metadata": {},
   "outputs": [],
   "source": [
    "pa = np.array([0.58,0.87,0.55,0.05])\n",
    "pb = np.array([0.65,0.51,0.45,0.05])"
   ]
  },
  {
   "cell_type": "code",
   "execution_count": 11,
   "metadata": {},
   "outputs": [],
   "source": [
    "mean_a = sum(x*pa)\n",
    "mean_b = sum(x*pb)"
   ]
  },
  {
   "cell_type": "code",
   "execution_count": 12,
   "metadata": {},
   "outputs": [
    {
     "name": "stdout",
     "output_type": "stream",
     "text": [
      "299.5 266.5\n"
     ]
    }
   ],
   "source": [
    "print(mean_a,mean_b) #선수 a와b의 상금의 기대값이 높다... - > 선수a의 기대값이 더 높다"
   ]
  },
  {
   "cell_type": "code",
   "execution_count": 13,
   "metadata": {},
   "outputs": [],
   "source": [
    "var_a = sum(((x-mean_a)**2)*pa)"
   ]
  },
  {
   "cell_type": "code",
   "execution_count": 14,
   "metadata": {},
   "outputs": [],
   "source": [
    "var_b = sum(((x-mean_b)**2)*pb)"
   ]
  },
  {
   "cell_type": "code",
   "execution_count": 15,
   "metadata": {},
   "outputs": [
    {
     "name": "stdout",
     "output_type": "stream",
     "text": [
      "76760.0125 46327.435000000005\n"
     ]
    }
   ],
   "source": [
    "#분산이 낮으면 기대값을 거의 가능 #분산이 높으면 기대값 조금 더 높음\n",
    "print(var_a,var_b) # 선수 a,b의 상금의 분산 => 선수a의 분산이 더 크다.."
   ]
  },
  {
   "cell_type": "code",
   "execution_count": 16,
   "metadata": {},
   "outputs": [],
   "source": [
    "#모편균의 구간 추정"
   ]
  },
  {
   "cell_type": "code",
   "execution_count": 17,
   "metadata": {},
   "outputs": [],
   "source": [
    "x_mean = 500\n",
    "se = 100"
   ]
  },
  {
   "cell_type": "code",
   "execution_count": 18,
   "metadata": {},
   "outputs": [],
   "source": [
    "# s*1.64*2 = 90%\n",
    "# s*1.96*2 = 95%\n",
    "# s*2.58*2 = 99%"
   ]
  },
  {
   "cell_type": "code",
   "execution_count": 20,
   "metadata": {},
   "outputs": [],
   "source": [
    "# # 모평균의 90% 신뢰구간...\n",
    "# 500-100*1.64 < mu < 500 + 1.64*100\n",
    "\n",
    "# # 모평균의 95% 신뢰구간...\n",
    "# 500-100*1.96 < mu < 500 + 1.96*100\n",
    "\n",
    "# # 모평균의 99% 신뢰구간...\n",
    "# 500-100*2.85 < mu < 500 + 2.85*100"
   ]
  },
  {
   "cell_type": "code",
   "execution_count": 21,
   "metadata": {},
   "outputs": [
    {
     "name": "stdout",
     "output_type": "stream",
     "text": [
      "모평균 90% 신뢰구간: 336.0 ~ 664.0\n",
      "모평균 95% 신뢰구간: 304.0 ~ 696.0\n",
      "모평균 99% 신뢰구간: 242.0 ~ 758.0\n"
     ]
    }
   ],
   "source": [
    "print('모평균 90% 신뢰구간:', 500-100*1.64,'~', 500 + 1.64*100)\n",
    "print('모평균 95% 신뢰구간:', 500-100*1.96,'~', 500 + 1.96*100)\n",
    "print('모평균 99% 신뢰구간:', 500-100*2.58,'~', 500 + 2.58*100)"
   ]
  },
  {
   "cell_type": "code",
   "execution_count": 22,
   "metadata": {},
   "outputs": [
    {
     "name": "stdout",
     "output_type": "stream",
     "text": [
      "29930.703535443718 - 30069.296464556282\n"
     ]
    }
   ],
   "source": [
    "n = 200\n",
    "x_mean = 30000\n",
    "theta = 500\n",
    "# 신뢰수준 = 95%\n",
    "\n",
    "print(x_mean - 1.96*(500/np.sqrt(n)),'-', x_mean + 1.96*(500/np.sqrt(200)))"
   ]
  },
  {
   "cell_type": "code",
   "execution_count": 23,
   "metadata": {},
   "outputs": [],
   "source": [
    "# 모집단의 표준편차를 모르는 경우 모평균의 신뢰구간"
   ]
  },
  {
   "cell_type": "code",
   "execution_count": 24,
   "metadata": {},
   "outputs": [],
   "source": [
    "arr = np.array([168,160,170,162,168,163,164,167,175,179,161,155])"
   ]
  },
  {
   "cell_type": "code",
   "execution_count": 25,
   "metadata": {},
   "outputs": [],
   "source": [
    "arr_mean = sum(arr)/len(arr)"
   ]
  },
  {
   "cell_type": "code",
   "execution_count": 26,
   "metadata": {},
   "outputs": [
    {
     "data": {
      "text/plain": [
       "44.18181818181818"
      ]
     },
     "execution_count": 26,
     "metadata": {},
     "output_type": "execute_result"
    }
   ],
   "source": [
    "arr_var = sum((arr-arr_mean)**2)/(len(arr)-1) #표본의 분산\n",
    "arr_var"
   ]
  },
  {
   "cell_type": "code",
   "execution_count": 27,
   "metadata": {},
   "outputs": [
    {
     "data": {
      "text/plain": [
       "6.646940512883967"
      ]
     },
     "execution_count": 27,
     "metadata": {},
     "output_type": "execute_result"
    }
   ],
   "source": [
    "arr_std = np.sqrt(arr_var) #표본의 표본편차\n",
    "arr_std"
   ]
  },
  {
   "cell_type": "code",
   "execution_count": 28,
   "metadata": {},
   "outputs": [
    {
     "data": {
      "text/plain": [
       "1.918806447200494"
      ]
     },
     "execution_count": 28,
     "metadata": {},
     "output_type": "execute_result"
    }
   ],
   "source": [
    "arr_se = arr_std/np.sqrt(len(arr)) #표준오차\n",
    "arr_se "
   ]
  },
  {
   "cell_type": "code",
   "execution_count": 29,
   "metadata": {},
   "outputs": [],
   "source": [
    "#arr_mean - t(0.025,11)*np.sqrt(arr_var) < mu < arr_mean - t(0.025,11)*np.sqrt(arr_var) #자유도 11"
   ]
  },
  {
   "cell_type": "code",
   "execution_count": 30,
   "metadata": {},
   "outputs": [],
   "source": [
    "#t-table 찾아보면 t(0.025,11) - 2.201"
   ]
  },
  {
   "cell_type": "code",
   "execution_count": 32,
   "metadata": {},
   "outputs": [
    {
     "name": "stdout",
     "output_type": "stream",
     "text": [
      "161.7767070097117 170.2232929902883\n"
     ]
    }
   ],
   "source": [
    "print(arr_mean - (2.201)*arr_se, arr_mean + (2.201)*arr_se)"
   ]
  },
  {
   "cell_type": "code",
   "execution_count": null,
   "metadata": {},
   "outputs": [],
   "source": [
    "n = 300\n",
    "x_mean = 244.65\n",
    "r = 20"
   ]
  },
  {
   "cell_type": "code",
   "execution_count": 37,
   "metadata": {},
   "outputs": [
    {
     "data": {
      "text/plain": [
       "-47.93450609946868"
      ]
     },
     "execution_count": 37,
     "metadata": {},
     "output_type": "execute_result"
    }
   ],
   "source": [
    "(244.65-300)/(20/(np.sqrt(300)))"
   ]
  },
  {
   "cell_type": "code",
   "execution_count": null,
   "metadata": {},
   "outputs": [],
   "source": [
    "#표본의표준편차가 45일떄로 문제풀기"
   ]
  },
  {
   "cell_type": "code",
   "execution_count": 39,
   "metadata": {},
   "outputs": [],
   "source": [
    "n = 300\n",
    "x_mean = 294.65\n",
    "r = 45\n",
    "#유의수준 0.05"
   ]
  },
  {
   "cell_type": "code",
   "execution_count": 41,
   "metadata": {},
   "outputs": [
    {
     "data": {
      "text/plain": [
       "-2.0592159601096744"
      ]
     },
     "execution_count": 41,
     "metadata": {},
     "output_type": "execute_result"
    }
   ],
   "source": [
    "(294.65-300)/(45/(np.sqrt(300)))"
   ]
  },
  {
   "cell_type": "code",
   "execution_count": null,
   "metadata": {},
   "outputs": [],
   "source": []
  },
  {
   "cell_type": "code",
   "execution_count": null,
   "metadata": {},
   "outputs": [],
   "source": []
  },
  {
   "cell_type": "code",
   "execution_count": null,
   "metadata": {},
   "outputs": [],
   "source": []
  },
  {
   "cell_type": "code",
   "execution_count": null,
   "metadata": {},
   "outputs": [],
   "source": []
  },
  {
   "cell_type": "code",
   "execution_count": null,
   "metadata": {},
   "outputs": [],
   "source": []
  },
  {
   "cell_type": "code",
   "execution_count": null,
   "metadata": {},
   "outputs": [],
   "source": []
  },
  {
   "cell_type": "code",
   "execution_count": null,
   "metadata": {},
   "outputs": [],
   "source": []
  },
  {
   "cell_type": "code",
   "execution_count": null,
   "metadata": {},
   "outputs": [],
   "source": []
  },
  {
   "cell_type": "code",
   "execution_count": null,
   "metadata": {},
   "outputs": [],
   "source": []
  }
 ],
 "metadata": {
  "kernelspec": {
   "display_name": "Python 3",
   "language": "python",
   "name": "python3"
  },
  "language_info": {
   "codemirror_mode": {
    "name": "ipython",
    "version": 3
   },
   "file_extension": ".py",
   "mimetype": "text/x-python",
   "name": "python",
   "nbconvert_exporter": "python",
   "pygments_lexer": "ipython3",
   "version": "3.8.3"
  }
 },
 "nbformat": 4,
 "nbformat_minor": 4
}
